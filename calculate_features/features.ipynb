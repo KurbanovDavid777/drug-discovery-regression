{
  "nbformat": 4,
  "nbformat_minor": 0,
  "metadata": {
    "colab": {
      "provenance": [],
      "toc_visible": true
    },
    "kernelspec": {
      "name": "python3",
      "display_name": "Python 3"
    },
    "language_info": {
      "name": "python"
    }
  },
  "cells": [
    {
      "cell_type": "markdown",
      "source": [
        "# **Загрузка датасета**"
      ],
      "metadata": {
        "id": "4BlbtkhVJYlG"
      }
    },
    {
      "cell_type": "code",
      "execution_count": null,
      "metadata": {
        "id": "VQ8HoauJHJ8Q"
      },
      "outputs": [],
      "source": [
        "import pandas as pd\n",
        "import numpy as np\n",
        "!pip install rdkit"
      ]
    },
    {
      "cell_type": "code",
      "source": [
        "#загрузка датасета\n",
        "data_1 = pd.read_csv(\"data/Maragakis et al DUDE docking scores and vortex properties.csv\")\n",
        "data_1"
      ],
      "metadata": {
        "id": "GW8kWSibHTKF"
      },
      "execution_count": null,
      "outputs": []
    },
    {
      "cell_type": "code",
      "source": [
        "#выбор таргета aldr\n",
        "data = data_1[data_1[\"target\"] == \"aldr\"]"
      ],
      "metadata": {
        "id": "SWBOm3vwHby9"
      },
      "execution_count": null,
      "outputs": []
    },
    {
      "cell_type": "code",
      "source": [
        "#удаляем малоинформативные колонки\n",
        "columns_to_drop = ['ID', 'MW', 'LIPINSKI_COUNT', 'RO3_COUNT']\n",
        "data = data.drop(columns_to_drop, axis=1, inplace=False)"
      ],
      "metadata": {
        "id": "JPy6CD2FHhpP"
      },
      "execution_count": null,
      "outputs": []
    },
    {
      "cell_type": "markdown",
      "source": [
        "# **Расчет физико-химических дискрипторов**"
      ],
      "metadata": {
        "id": "7P6Vqy0oH5-k"
      }
    },
    {
      "cell_type": "code",
      "source": [
        "def add_physcem_descriptors(data, smiles_col=\"SMILES\"):\n",
        "  def calc(mol):\n",
        "    return {\n",
        "        # молекулярная рефрактивность\n",
        "         \"mol_refractivity\": Descriptors.MolMR(mol),\n",
        "          # формальный заряд\n",
        "          \"formal_charge\": Chem.GetFormalCharge(mol)\n",
        "    }\n",
        "\n",
        "  mols = [Chem.MolFromSmiles(s) for s in data['SMILES']]\n",
        "  new_data = [calc(m) for m in mols]\n",
        "  return pd.concat([data, pd.DataFrame(new_data, index=data.index)], axis=1)"
      ],
      "metadata": {
        "id": "g9RB611sHpCS"
      },
      "execution_count": null,
      "outputs": []
    },
    {
      "cell_type": "code",
      "source": [
        "data = add_physcem_descriptors(data, smiles_col='SMILES')"
      ],
      "metadata": {
        "id": "XsgbzvpHIAL3"
      },
      "execution_count": null,
      "outputs": []
    },
    {
      "cell_type": "markdown",
      "source": [
        "# **Расчет Топологических дискрипторов**"
      ],
      "metadata": {
        "id": "7wOGziyrIC2x"
      }
    },
    {
      "cell_type": "code",
      "source": [
        "def add_topology_descriptors(data, smiles_col=\"SMILES\"):\n",
        "  def calc(mol):\n",
        "    return {\n",
        "        \"balaban_j\": GraphDescriptors.BalabanJ(mol),\n",
        "        \"bertz_ct\":  Descriptors.BertzCT(mol),\n",
        "        \"kappa1\": rdMolDescriptors.CalcKappa1(mol),\n",
        "        \"kappa2\": rdMolDescriptors.CalcKappa2(mol),\n",
        "        \"kappa3\": rdMolDescriptors.CalcKappa3(mol),\n",
        "        \"chi0v\": rdMolDescriptors.CalcChi0v(mol),\n",
        "        \"chi1v\": rdMolDescriptors.CalcChi1v(mol),\n",
        "        \"chi2v\": rdMolDescriptors.CalcChi2v(mol),\n",
        "        \"chi3v\": rdMolDescriptors.CalcChi3v(mol),\n",
        "        \"labute_asa\": rdMolDescriptors.CalcLabuteASA(mol)\n",
        "    }\n",
        "\n",
        "  mols = [Chem.MolFromSmiles(s) for s in data['SMILES']]\n",
        "  new_data = [calc(m) for m in mols]\n",
        "  return pd.concat([data, pd.DataFrame(new_data, index=data.index)], axis=1)"
      ],
      "metadata": {
        "id": "8nxJ_EEHIDgK"
      },
      "execution_count": null,
      "outputs": []
    },
    {
      "cell_type": "code",
      "source": [
        "data = add_topology_descriptors(data, smiles_col='SMILES')"
      ],
      "metadata": {
        "id": "xPxEu3zgII0P"
      },
      "execution_count": null,
      "outputs": []
    },
    {
      "cell_type": "markdown",
      "source": [
        "# **Рассчет площади поверхности по диапазонам гидрофобности, площади поверхности по диапазонам мол. рефрактивности, площади поверхности по диапазонам частичных зарядов**"
      ],
      "metadata": {
        "id": "HPN-PBrRIUbq"
      }
    },
    {
      "cell_type": "code",
      "source": [
        "from rdkit.Chem import Descriptors\n",
        "\n",
        "def add_surface(data: pd.DataFrame, smiles_col: str = \"SMILES\") -> pd.DataFrame:\n",
        "    # Берём все дескрипторы, у которых имя начинается с нужных префиксов\n",
        "    wanted = [\"SlogP_VSA\", \"SMR_VSA\", \"PEOE_VSA\"]\n",
        "    descs = [(name, fn) for name, fn in Descriptors.descList\n",
        "             if any(name.startswith(w) for w in wanted)]\n",
        "\n",
        "    def calc(mol):\n",
        "        if mol is None:\n",
        "            return {}\n",
        "        return {name: fn(mol) for name, fn in descs}\n",
        "\n",
        "    rows = []\n",
        "    for smi in data[smiles_col]:\n",
        "        mol = Chem.MolFromSmiles(smi)\n",
        "        rows.append(calc(mol))\n",
        "\n",
        "    return pd.concat([data.reset_index(drop=True), pd.DataFrame(rows)], axis=1)"
      ],
      "metadata": {
        "id": "g1g7GmnSILIL"
      },
      "execution_count": null,
      "outputs": []
    },
    {
      "cell_type": "code",
      "source": [
        "data = add_surface(data, smiles_col='SMILES')"
      ],
      "metadata": {
        "id": "beInmUW_IaKo"
      },
      "execution_count": null,
      "outputs": []
    },
    {
      "cell_type": "markdown",
      "source": [
        "## **Рассчет кол-ва функциональных групп**"
      ],
      "metadata": {
        "id": "qsQH9cCLIjTm"
      }
    },
    {
      "cell_type": "code",
      "source": [
        "def add_functional_descriptors(data, smiles_col=\"SMILES\"):\n",
        "  def calc(mol):\n",
        "\n",
        "    num_amide = rdMolDescriptors.CalcNumAmideBonds(mol)\n",
        "    num_alif_carboxy = rdMolDescriptors.CalcNumAliphaticCarbocycles(mol)\n",
        "    num_hetero_cycles = rdMolDescriptors.CalcNumAromaticHeterocycles(mol)\n",
        "    num_spiro_atoms = rdMolDescriptors.CalcNumSpiroAtoms(mol)\n",
        "\n",
        "    return {\n",
        "        \"NumAmideBonds\": num_amide,\n",
        "        \"NumAlifCarboxy\": num_alif_carboxy,\n",
        "        \"NumHeteroCycles\": num_hetero_cycles,\n",
        "        \"NumSpiroAtoms\": num_spiro_atoms\n",
        "   }\n",
        "  mols = [Chem.MolFromSmiles(s) for s in data[smiles_col]]\n",
        "  new_rows = [calc(m) for m in mols]\n",
        "  return pd.concat([data.reset_index(drop=True), pd.DataFrame(new_rows)], axis=1)"
      ],
      "metadata": {
        "id": "iVyX6XdYInH3"
      },
      "execution_count": null,
      "outputs": []
    },
    {
      "cell_type": "code",
      "source": [
        "data = add_functional_descriptors(data, smiles_col='SMILES')"
      ],
      "metadata": {
        "id": "LBN1xjEfItxb"
      },
      "execution_count": null,
      "outputs": []
    },
    {
      "cell_type": "markdown",
      "source": [
        "# **Сохранение итогового датасета фичей без фингерпринтов**"
      ],
      "metadata": {
        "id": "9kKQCgFLJRs4"
      }
    },
    {
      "cell_type": "code",
      "source": [
        "from google.colab import files\n",
        "\n",
        "data.to_csv(\"result_features_no_fingerprint.csv\", index=False)\n",
        "files.download(\"result_features_no_fingerprint.csv\")"
      ],
      "metadata": {
        "id": "SnkQZuP7JVsw"
      },
      "execution_count": null,
      "outputs": []
    },
    {
      "cell_type": "markdown",
      "source": [
        "# **Вычисление фингерпринтов MACCS**"
      ],
      "metadata": {
        "id": "T0TGoU_f29E5"
      }
    },
    {
      "cell_type": "code",
      "source": [
        "#загрузка датасета\n",
        "data_1 = pd.read_csv(\"data/Maragakis et al DUDE docking scores and vortex properties.csv\")\n",
        "data_1"
      ],
      "metadata": {
        "id": "1ATMY3O23DrB"
      },
      "execution_count": null,
      "outputs": []
    },
    {
      "cell_type": "code",
      "source": [
        "data = data_1[['SMILES', 'score']]"
      ],
      "metadata": {
        "id": "zcRK39U440gq"
      },
      "execution_count": null,
      "outputs": []
    },
    {
      "cell_type": "code",
      "source": [
        "from rdkit import Chem\n",
        "from rdkit.Chem import MACCSkeys\n",
        "\n",
        "def add_maccs_fingerprints(data, smiles_col=\"SMILES\"):\n",
        "  def calc_fp(smiles):\n",
        "    mol = Chem.MolFromSmiles(smiles)\n",
        "    fp = MACCSkeys.GenMACCSKeys(mol)\n",
        "    bits  = fp.ToBitString()\n",
        "    return {f\"maccs_{i}\": int(b) for i, b in enumerate(bits)}\n",
        "\n",
        "  fps = [calc_fp(s) for s in data[smiles_col]]\n",
        "  return pd.concat([data, pd.DataFrame(fps, index=data.index)], axis=1)"
      ],
      "metadata": {
        "id": "A4mhifbh46Wb"
      },
      "execution_count": null,
      "outputs": []
    },
    {
      "cell_type": "code",
      "source": [
        "data = add_maccs_fingerprints(data, smiles_col='SMILES')"
      ],
      "metadata": {
        "id": "_hPbW5_r5AJm"
      },
      "execution_count": null,
      "outputs": []
    },
    {
      "cell_type": "code",
      "source": [
        "data = data.drop('SMILES', axis=1)"
      ],
      "metadata": {
        "id": "jjPIEpND5DRm"
      },
      "execution_count": null,
      "outputs": []
    },
    {
      "cell_type": "markdown",
      "source": [
        "# **Вычисление фингерпринтов Morgan**"
      ],
      "metadata": {
        "id": "nRHZShFm6GNf"
      }
    },
    {
      "cell_type": "code",
      "source": [
        "#загрузка датасета\n",
        "data_1 = pd.read_csv(\"data/Maragakis et al DUDE docking scores and vortex properties.csv\")\n",
        "data_1"
      ],
      "metadata": {
        "id": "UsrSnS8Z6JFH"
      },
      "execution_count": null,
      "outputs": []
    },
    {
      "cell_type": "code",
      "source": [
        "data = data_1[['SMILES', 'score']]"
      ],
      "metadata": {
        "id": "8qrlKXZd6O2z"
      },
      "execution_count": null,
      "outputs": []
    },
    {
      "cell_type": "code",
      "source": [
        "from rdkit import Chem\n",
        "from rdkit.Chem import AllChem\n",
        "\n",
        "def add_morgan_fingerprints(data, smiles_col=\"SMILES\", radius=2, n_bits=1024):\n",
        "    def calc_fp(smiles):\n",
        "        mol = Chem.MolFromSmiles(smiles)\n",
        "        fp = AllChem.GetMorganFingerprintAsBitVect(mol, radius, nBits=n_bits)\n",
        "        bits = fp.ToBitString()\n",
        "        return {f\"morgan_{i}\": int(b) for i, b in enumerate(bits)}\n",
        "\n",
        "    fps = [calc_fp(s) for s in data[smiles_col]]\n",
        "    fps_df = pd.DataFrame(fps, index=data.index)\n",
        "    return pd.concat([data, fps_df], axis=1)"
      ],
      "metadata": {
        "id": "8js_6FiC6TeK"
      },
      "execution_count": null,
      "outputs": []
    },
    {
      "cell_type": "code",
      "source": [
        "data = add_morgan_fingerprints(data, smiles_col=\"SMILES\")"
      ],
      "metadata": {
        "id": "haxfDi5o6YiP"
      },
      "execution_count": null,
      "outputs": []
    },
    {
      "cell_type": "code",
      "source": [
        "data = data.drop('SMILES', axis=1)"
      ],
      "metadata": {
        "id": "Cgj3RUtw6c1m"
      },
      "execution_count": null,
      "outputs": []
    }
  ]
}